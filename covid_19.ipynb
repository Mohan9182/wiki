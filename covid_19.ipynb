{
 "metadata": {
  "language_info": {
   "codemirror_mode": {
    "name": "ipython",
    "version": 3
   },
   "file_extension": ".py",
   "mimetype": "text/x-python",
   "name": "python",
   "nbconvert_exporter": "python",
   "pygments_lexer": "ipython3",
   "version": "3.8.3-final"
  },
  "orig_nbformat": 2,
  "kernelspec": {
   "name": "python_defaultSpec_1595256966994",
   "display_name": "Python 3.8.3 64-bit ('base': conda)"
  }
 },
 "nbformat": 4,
 "nbformat_minor": 2,
 "cells": [
  {
   "cell_type": "code",
   "execution_count": 1,
   "metadata": {},
   "outputs": [],
   "source": [
    "import pandas as pd\n",
    "import plotly.figure_factory as pf\n",
    "import numpy as np\n",
    "import plotly.graph_objects as pg\n",
    "from plotly.subplots import make_subplots\n",
    "import plotly.express as px\n",
    "import plotly.offline as py\n",
    "from datetime import timedelta"
   ]
  },
  {
   "cell_type": "code",
   "execution_count": 2,
   "metadata": {},
   "outputs": [],
   "source": [
    "district = pd.read_csv('https://api.covid19india.org/csv/latest/district_wise.csv',index_col='SlNo',skiprows=[1])\n",
    "state = pd.read_csv(\"https://api.covid19india.org/csv/latest/state_wise.csv\",skiprows=[1])[['State','Confirmed','Recovered','Deaths','Active']]\n",
    "daily = pd.read_csv('https://api.covid19india.org/csv/latest/state_wise_daily.csv')\n",
    "district.drop(district.loc[district['State'] == 'State Unassigned'].index,inplace=True)\n",
    "for i,x in enumerate(district['District']):\n",
    "\tif x == 'Unknown': district['District'].iloc[i] = district['State'].iloc[i]"
   ]
  },
  {
   "cell_type": "code",
   "execution_count": 5,
   "metadata": {},
   "outputs": [],
   "source": [
    "daily['Date'] = daily['Date'].apply(lambda x: pd.to_datetime(x))"
   ]
  },
  {
   "cell_type": "code",
   "execution_count": 7,
   "metadata": {},
   "outputs": [],
   "source": [
    "date = daily['Date'].iloc[-1] - timedelta(days=30)"
   ]
  },
  {
   "cell_type": "code",
   "execution_count": 8,
   "metadata": {},
   "outputs": [],
   "source": [
    "confirmed = daily['TT'].loc[(daily['Date']>=date) & (daily['Status']=='Confirmed')].reset_index(drop=True)"
   ]
  },
  {
   "cell_type": "code",
   "execution_count": 9,
   "metadata": {},
   "outputs": [],
   "source": [
    "state_names={}\n",
    "for x in district['State'].unique():\n",
    "    state_names[x]=district['State_Code'].loc[district['State']==x].values[0]"
   ]
  },
  {
   "cell_type": "code",
   "execution_count": 11,
   "metadata": {},
   "outputs": [],
   "source": [
    "recovered = daily['TT'].loc[(daily['Date']>=date) & (daily['Status']=='Recovered')].reset_index(drop=True)\n",
    "deaths = daily['TT'].loc[(daily['Date']>=date) & (daily['Status']=='Deceased')].reset_index(drop=True)"
   ]
  },
  {
   "cell_type": "code",
   "execution_count": 12,
   "metadata": {},
   "outputs": [],
   "source": [
    "active = confirmed - recovered - deaths"
   ]
  },
  {
   "cell_type": "code",
   "execution_count": 13,
   "metadata": {},
   "outputs": [],
   "source": [
    "dates = pd.date_range(start=date,end=daily['Date'].iloc[-1])"
   ]
  },
  {
   "cell_type": "code",
   "execution_count": 14,
   "metadata": {},
   "outputs": [],
   "source": [
    "table_trace1 = pg.Table(header=dict(values=['States', 'Confirmed','Active','Deceased','Recovered']),\n",
    "                 cells=dict(values=[state['State'], state['Confirmed'],state['Active'], state['Deaths'], state['Recovered']]),domain=dict(x=[0, 0.5],y=[0, 1.0]))\n",
    "trace1 = pg.Bar(x=dates,y=confirmed,name='Confirmed',marker={'color':'#FD073A'},xaxis='x1',yaxis='y1',textposition='auto',text=confirmed,texttemplate='%{text:.2s}',textangle=90)\n",
    "trace2 = pg.Bar(x=dates,y=active,name='Active',marker={'color':'#0080FF'},xaxis='x2',yaxis='y2',textposition='auto',text=active,texttemplate='%{text:.2s}',textangle=90)\n",
    "trace3 = pg.Bar(x=dates,y=recovered,name='Recovered',marker={'color':'#3ADF00'},xaxis='x3',yaxis='y3',textposition='auto',text=recovered,texttemplate='%{text:.2s}',textangle=90)\n",
    "trace4 = pg.Bar(x=dates,y=deaths,name='Deceased',xaxis='x4',yaxis='y4',textposition='auto',text=deaths,texttemplate='%{text:.2s}',textangle=90,marker={'color':'#FF8000'})"
   ]
  },
  {
   "cell_type": "code",
   "execution_count": 15,
   "metadata": {},
   "outputs": [],
   "source": [
    "axis=dict(\n",
    "    showline=False,\n",
    "    zeroline=False,\n",
    "    showgrid=False,\n",
    "    mirror=True,\n",
    "    ticklen=5,\n",
    "    gridcolor='#ffffff',\n",
    "    tickfont=dict(size=10)\n",
    ")"
   ]
  },
  {
   "cell_type": "code",
   "execution_count": 16,
   "metadata": {},
   "outputs": [],
   "source": [
    "layout1 = dict(\n",
    "\tautosize=True,\n",
    "\ttitle='Covid-19 Statistics',\n",
    "\tmargin = dict(t=100),\n",
    "\tshowlegend=True,\n",
    "\txaxis1=dict(axis, **dict(domain=[0.55, 1], anchor='y1',showticklabels=False)),\n",
    "\txaxis2=dict(axis, **dict(domain=[0.55, 1], anchor='y2',showticklabels=False)),\n",
    "\txaxis3=dict(axis, **dict(domain=[0.55, 1], anchor='y3',showticklabels=False)),\n",
    "\txaxis4=dict(axis, **dict(domain=[0.55, 1], anchor='y4')),\n",
    "\tyaxis1=dict(axis, **dict(domain=[0.7+0.02, 1.0], anchor='x1')),\n",
    "\tyaxis2=dict(axis, **dict(domain=[0.4+0.07, 0.7], anchor='x2')),\n",
    "  yaxis3=dict(axis, **dict(domain=[0.2 + 0.02, 0.4+0.05], anchor='x3')),\n",
    "  yaxis4=dict(axis, **dict(domain=[0.0, 0.2], anchor='x4'))\n",
    ")"
   ]
  },
  {
   "cell_type": "code",
   "execution_count": 17,
   "metadata": {},
   "outputs": [
    {
     "output_type": "execute_result",
     "data": {
      "text/plain": "'temp-plot.html'"
     },
     "metadata": {},
     "execution_count": 17
    }
   ],
   "source": [
    "fig1 = dict(data=[table_trace1, trace1, trace2, trace3, trace4], layout=layout1)\n",
    "py.plot(fig1)"
   ]
  },
  {
   "cell_type": "code",
   "execution_count": null,
   "metadata": {},
   "outputs": [],
   "source": []
  }
 ]
}